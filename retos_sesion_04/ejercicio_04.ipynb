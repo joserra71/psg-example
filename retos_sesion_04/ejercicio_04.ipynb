{
 "cells": [
  {
   "cell_type": "markdown",
   "metadata": {},
   "source": [
    "***Flota Espacial***\n",
    "***\n",
    "\n",
    "***\n",
    "\n",
    "**Objetivo:**\n",
    "\n",
    "    * El objetivo del juego es ser el primero en descubrir y destruir la flota enemiga.\n",
    "  \n",
    "**Preparación del juego:**\n",
    "\n",
    "    1. Cada jugador recibe un tablero de juego cuadriculado.\n",
    "    2. Se colocan 4 \"asteroides\", 1 \"Hoyo negro\", 2 \"Super novas\", en el tablero, que actúan como obstáculos y dificultan los disparos.\n",
    "   \n",
    "*Cada jugador coloca sus naves espaciales en su tablero sin que el oponente pueda ver su disposición.*"
   ]
  },
  {
   "cell_type": "code",
   "execution_count": 30,
   "metadata": {},
   "outputs": [
    {
     "name": "stdout",
     "output_type": "stream",
     "text": [
      "*********************\n",
      "* + + + + + + + + + *\n",
      "* + + + + + + + + + *\n",
      "* + + + + + + + + + *\n",
      "* + + + + + + + + + *\n",
      "* + + + + + + + + + *\n",
      "* + + + + + + + + + *\n",
      "* + + + + + + + + + *\n",
      "* + + + + + + + + + *\n",
      "* + + + + + + + + + *\n",
      "*********************\n"
     ]
    }
   ],
   "source": [
    "#TABLERO\n",
    "print(\"*********************\")\n",
    "print(\"* + + + + + + + + + *\")\n",
    "print(\"* + + + + + + + + + *\")\n",
    "print(\"* + + + + + + + + + *\")\n",
    "print(\"* + + + + + + + + + *\")\n",
    "print(\"* + + + + + + + + + *\")\n",
    "print(\"* + + + + + + + + + *\")\n",
    "print(\"* + + + + + + + + + *\")\n",
    "print(\"* + + + + + + + + + *\")\n",
    "print(\"* + + + + + + + + + *\")\n",
    "print(\"*********************\")"
   ]
  },
  {
   "cell_type": "markdown",
   "metadata": {},
   "source": [
    "**Reglas del juego:**\n",
    "\n",
    "1. Los jugadores se turnan para intentar adivinar la ubicación de las naves enemigas y destruirlas.\n",
    "2. Durante su turno, un jugador elige una casilla del tablero del oponente y la nombra.\n",
    "3. El oponente indica si el disparo ha sido \"acierto\" (ha alcanzado una nave enemiga), \"agua\" (no ha alcanzado ninguna nave) o \"choque\" (ha impactado contra un asteroide).\n",
    "4. Si se produce un \"choque\", el jugador pierde su turno.\n",
    "5. Si el jugador toca el hoyo negro pierde automáticamente el juego.\n",
    "6. Si el jugador toca una super nova, este puede elegir una nave del jugador oponente para destruir por completo, la super nova puede tomar efecto una sola vez.\n",
    "7. El juego continúa hasta que todas las naves de un jugador hayan sido destruidas.\n",
    "\n",
    "**Eventos especiales:**\n",
    "\n",
    "* Cada 3 turnos cada jugador tomara una \"carta de eventos especiales\" que proporcionan ventajas o desventajas a los jugadores."
   ]
  },
  {
   "cell_type": "markdown",
   "metadata": {},
   "source": [
    "***PIEZAS DEL JUEGO***\n",
    "***\n",
    "\n",
    "**Descripción de piezas**\n",
    "\n",
    "- Nave nodriza (1 pieza), 4 casillas de largo por 2  casillas de ancho\n",
    "- Naves cazadoras (4 piezas), 2 casillas de largo por una casilla ancho\n",
    "- Naves escolta (2 piezas), 3 casillas de largo por una casilla de ancho"
   ]
  },
  {
   "cell_type": "code",
   "execution_count": 31,
   "metadata": {},
   "outputs": [
    {
     "name": "stdout",
     "output_type": "stream",
     "text": [
      "Nave nodriza\n",
      "\\\\_**==>\n",
      "   **\n",
      "Nave cazadora\n",
      ">-|>\n",
      "Nave escolta\n",
      ">--|*>\n"
     ]
    }
   ],
   "source": [
    "print(\"Nave nodriza\")\n",
    "print(\"\\\\\\\\_**==>\")\n",
    "print(\"   **\")\n",
    "print(\"Nave cazadora\")\n",
    "print(\">-|>\")\n",
    "print(\"Nave escolta\")\n",
    "print(\">--|*>\")\n"
   ]
  }
 ],
 "metadata": {
  "kernelspec": {
   "display_name": "Python 3",
   "language": "python",
   "name": "python3"
  },
  "language_info": {
   "codemirror_mode": {
    "name": "ipython",
    "version": 3
   },
   "file_extension": ".py",
   "mimetype": "text/x-python",
   "name": "python",
   "nbconvert_exporter": "python",
   "pygments_lexer": "ipython3",
   "version": "3.12.3"
  }
 },
 "nbformat": 4,
 "nbformat_minor": 2
}
