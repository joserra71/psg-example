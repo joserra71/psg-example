{
 "cells": [
  {
   "cell_type": "markdown",
   "metadata": {},
   "source": [
    "# EJERCICIO 02\n",
    "&nbsp;&nbsp;&nbsp;&nbsp;vvvvvvvvv\n",
    "\n",
    "&nbsp;&nbsp;&nbsp;&nbsp;/ ~~ ~~ \\\n",
    "\n",
    "@| (o)......(o) |@\n",
    "\n",
    " &nbsp;&nbsp;&nbsp;|&nbsp;&nbsp;&nbsp;&nbsp;&nbsp;&nbsp;&nbsp;O&nbsp;&nbsp;&nbsp;&nbsp;&nbsp;&nbsp;|\n",
    "\n",
    " &nbsp;&nbsp;&nbsp;&nbsp;| v~~~v |\n",
    "\n",
    " &nbsp;&nbsp;&nbsp;&nbsp; \\\\_______/\n"
   ]
  }
 ],
 "metadata": {
  "language_info": {
   "name": "python"
  }
 },
 "nbformat": 4,
 "nbformat_minor": 2
}
